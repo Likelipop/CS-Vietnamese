{
  "nbformat": 4,
  "nbformat_minor": 0,
  "metadata": {
    "colab": {
      "provenance": [],
      "authorship_tag": "ABX9TyPxOdnHZdIhmRKV+u2uDvcZ",
      "include_colab_link": true
    },
    "kernelspec": {
      "name": "python3",
      "display_name": "Python 3"
    },
    "language_info": {
      "name": "python"
    }
  },
  "cells": [
    {
      "cell_type": "markdown",
      "metadata": {
        "id": "view-in-github",
        "colab_type": "text"
      },
      "source": [
        "<a href=\"https://colab.research.google.com/github/Likelipop/CS-Vietnamese/blob/main/sherlock%20holmes.ipynb\" target=\"_parent\"><img src=\"https://colab.research.google.com/assets/colab-badge.svg\" alt=\"Open In Colab\"/></a>"
      ]
    },
    {
      "cell_type": "markdown",
      "source": [
        "#THE ADVENTURE OF A SCANDAL IN BOHEMIA"
      ],
      "metadata": {
        "id": "wekl5CPrbS0e"
      }
    },
    {
      "cell_type": "markdown",
      "source": [
        "Đối với Sherlock Homles, cô ấy - Irene Adler - luôn là người phụ nữ duy nhât trong lòng anh. Trong đôi mắt anh ta, nàng làm **Eclipses and predominates** bất kỳ người con gái nào khác. Không phải vì anh ấy dành cho Iren Adler một thứ tình yêu đặc biệt nồng cháy đến thế. Tất cả những thứ xúc cảm - đặc biệt là tình yêu - điều là những thứ đáng bỏ đi đối với một bộ óc lạnh lingf, chính xác nhưng cân bằng một cách tuyệt vời của anh ấy. Tôi dám chắc chắn rằng anh ấy là cỗ máy quan sát và lập luận hoàn hảo nhất mà thế giới từng thấy, nhưng với tư cách một người tình, anh ấy sẽ tự đặt mình vào một vị trí sai lầm. Anh ấy không bao giờ nói về những đam mê mềm yếu, save with gibe and sneer. Chúng là những thứ tuyệt vời cho người quan sát—xuất sắc trong việc vén màn bí mật về động cơ và hành động của con người. Nhưng đối với một người lập luận được đào tạo bài bản, việc thừa nhận những sự xâm nhập như vậy vào tính khí tinh tế và được điều chỉnh hoàn hảo của bản thân đồng nghĩa với việc đưa vào một yếu tố gây xao nhãng, có thể gieo rắc nghi ngờ vào tất cả các kết quả tinh thần của anh. Hạt sạn trong một dụng cụ nhạy cảm, hoặc một vết nứt trên một trong những thấu kính công suất cao của anh, cũng không gây phiền nhiễu bằng một cảm xúc mạnh mẽ trong một bản chất như của anh. Nhưng đối với anh, chỉ có duy nhất một người phụ nữ, và người phụ nữ đó là Irene Adler quá cố, với một ký ức mơ hồ và đầy nghi vấn."
      ],
      "metadata": {
        "id": "uZOXx5Gsbjyx"
      }
    }
  ]
}